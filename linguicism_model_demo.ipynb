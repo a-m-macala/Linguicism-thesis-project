{
 "cells": [
  {
   "cell_type": "code",
   "execution_count": 1,
   "metadata": {},
   "outputs": [],
   "source": [
    "import pandas as pd\n",
    "import numpy as np\n",
    "from sentence_transformers import SentenceTransformer\n",
    "from sklearn import preprocessing\n",
    "from sklearn.svm import SVC\n",
    "from sklearn.model_selection import train_test_split\n",
    "from sklearn.metrics import accuracy_score,precision_score,recall_score\n"
   ]
  },
  {
   "cell_type": "markdown",
   "metadata": {},
   "source": [
    "Removing unwanted columns and labeling artifacts"
   ]
  },
  {
   "cell_type": "code",
   "execution_count": 2,
   "metadata": {},
   "outputs": [],
   "source": [
    "labeled_dataset=pd.read_csv('Actual set/actual_set_labeled.csv')\n",
    "labeled_dataset_clean=labeled_dataset.drop(columns=['Unnamed: 0', 'annotation_id','annotator', 'created_at', 'id', 'updated_at', 'lead_time'], axis=1)\n",
    "cols=['ling_element', 'target', 'sentiment']\n",
    "labeled_dataset_clean[cols]=labeled_dataset_clean[cols].apply(\n",
    "    lambda col: col.str.replace(\n",
    "        r'\\{\"choices\":\\[(.*?)\\]\\}',\n",
    "        lambda m: m.group(1).replace('\"', ''), \n",
    "        regex=True\n",
    "    )\n",
    ")\n"
   ]
  },
  {
   "cell_type": "markdown",
   "metadata": {},
   "source": [
    "Assigning to classes based on labels"
   ]
  },
  {
   "cell_type": "code",
   "execution_count": 3,
   "metadata": {},
   "outputs": [],
   "source": [
    "labeled_dataset_clean[\"is_linguicism\"]=\"No\"\n",
    "labeled_dataset_clean.loc[\n",
    "    (labeled_dataset_clean[\"language\"] == \"yes\") &\n",
    "    (labeled_dataset_clean[\"target\"].str.contains(\"DIRECT|MENTION\", na=False)) & \n",
    "    (labeled_dataset_clean[\"ling_element\"].str.contains(\"PHEN|WORD\", na=False)) & \n",
    "    (~labeled_dataset_clean[\"ling_element\"].str.contains(\"INVIS\", na=False)) & \n",
    "    (labeled_dataset_clean[\"sentiment\"] == \"NEG\") &\n",
    "    (labeled_dataset_clean[[\"questions\", \"facts\", \"word_jokes\", \"other\"]].isna().all(axis=1)),\n",
    "    \"is_linguicism\"\n",
    "] = \"yes\"\n",
    "\n",
    "text=labeled_dataset_clean['full_text'].to_list()\n",
    "\n"
   ]
  },
  {
   "cell_type": "markdown",
   "metadata": {},
   "source": [
    "combining categorical features with text"
   ]
  },
  {
   "cell_type": "code",
   "execution_count": 4,
   "metadata": {},
   "outputs": [],
   "source": [
    "\n",
    "as_string = labeled_dataset_clean[['comm_aesthetic', 'correctness', 'country_patriotism', 'danger_decline',\n",
    "       'dict_lit', 'emo_som', 'error_mention', 'facts',\n",
    "       'language', 'ling_element', 'offensive', 'other', 'personal_quality',\n",
    "       'questions', 'sarcasm', 'sentiment', 'target', 'threats',\n",
    "       'visual_mocking', 'word_jokes']].apply(lambda row: ' '.join(row.values.astype(str)), axis=1).to_list()\n",
    "\n",
    "\n",
    "\n",
    "cat_features=[]\n",
    "for line in as_string:\n",
    "       n=line.replace('nan',\"\")\n",
    "       n=' '.join(n.split())\n",
    "       cat_features.append(n)\n",
    "\n",
    "cat_features\n",
    "\n",
    "cat_text=list(zip(text, cat_features))\n",
    "\n",
    "\n",
    "       "
   ]
  },
  {
   "cell_type": "markdown",
   "metadata": {},
   "source": [
    "Encoding text with model"
   ]
  },
  {
   "cell_type": "code",
   "execution_count": 11,
   "metadata": {},
   "outputs": [],
   "source": [
    "model = SentenceTransformer('sdadas/st-polish-paraphrase-from-distilroberta')\n",
    "embeddings = model.encode(cat_text)"
   ]
  },
  {
   "cell_type": "markdown",
   "metadata": {},
   "source": [
    "Preprocessing and training classifier"
   ]
  },
  {
   "cell_type": "code",
   "execution_count": 5,
   "metadata": {},
   "outputs": [],
   "source": [
    "label_encoder=preprocessing.LabelEncoder()\n",
    "labeled_dataset_clean['is_linguicism']= label_encoder.fit_transform(labeled_dataset_clean['is_linguicism'])\n"
   ]
  },
  {
   "cell_type": "code",
   "execution_count": 22,
   "metadata": {},
   "outputs": [],
   "source": [
    "x_train,x_test,y_train,y_test=train_test_split(embeddings,np.asarray(labeled_dataset_clean['is_linguicism']),random_state=42)"
   ]
  },
  {
   "cell_type": "code",
   "execution_count": 23,
   "metadata": {},
   "outputs": [
    {
     "name": "stdout",
     "output_type": "stream",
     "text": [
      "{0, 1}\n"
     ]
    }
   ],
   "source": [
    "print(set(y_test))"
   ]
  },
  {
   "cell_type": "code",
   "execution_count": 27,
   "metadata": {},
   "outputs": [
    {
     "name": "stdout",
     "output_type": "stream",
     "text": [
      "92.3076923076923\n",
      "0.7115384615384616\n",
      "0.925\n"
     ]
    }
   ],
   "source": [
    "model=SVC()\n",
    "model.fit(x_train,y_train)\n",
    "y_predicted = model.predict(x_test)\n",
    "print(accuracy_score(y_predicted,y_test)*100)\n",
    "print(precision_score(y_predicted,y_test))\n",
    "print(recall_score(y_predicted,y_test,pos_label=1))"
   ]
  }
 ],
 "metadata": {
  "kernelspec": {
   "display_name": "Nationalism",
   "language": "python",
   "name": "python3"
  },
  "language_info": {
   "codemirror_mode": {
    "name": "ipython",
    "version": 3
   },
   "file_extension": ".py",
   "mimetype": "text/x-python",
   "name": "python",
   "nbconvert_exporter": "python",
   "pygments_lexer": "ipython3",
   "version": "3.11.7"
  }
 },
 "nbformat": 4,
 "nbformat_minor": 2
}
